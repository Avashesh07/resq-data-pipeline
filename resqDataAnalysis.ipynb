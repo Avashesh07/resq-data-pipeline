{
  "nbformat": 4,
  "nbformat_minor": 0,
  "metadata": {
    "colab": {
      "provenance": []
    },
    "kernelspec": {
      "name": "python3",
      "display_name": "Python 3"
    },
    "language_info": {
      "name": "python"
    }
  },
  "cells": [
    {
      "cell_type": "markdown",
      "source": [
        "# 1. Authenticate and Connect to BigQuery"
      ],
      "metadata": {
        "id": "U3RCJcEwgS0n"
      }
    },
    {
      "cell_type": "markdown",
      "source": [
        "## 1.1 Authenticate with Google Cloud"
      ],
      "metadata": {
        "id": "M6godL-hgfuc"
      }
    },
    {
      "cell_type": "markdown",
      "source": [
        "Run the following code to authenticate your Google account and allow access to BigQuery:\n"
      ],
      "metadata": {
        "id": "Jy5SkntrggnZ"
      }
    },
    {
      "cell_type": "code",
      "source": [
        "from google.colab import auth\n",
        "auth.authenticate_user()\n"
      ],
      "metadata": {
        "id": "1SmcXaYObzWo"
      },
      "execution_count": 2,
      "outputs": []
    },
    {
      "cell_type": "markdown",
      "source": [
        "\n",
        "*   This will prompt you to authorize Colab to access your Google Cloud resources.\n",
        "\n",
        "*   Follow the on-screen instructions to complete the authentication.\n",
        "\n",
        "\n"
      ],
      "metadata": {
        "id": "Ak45G4Qygpdx"
      }
    },
    {
      "cell_type": "markdown",
      "source": [
        "## 1.2 Import Libraries and Set Up BigQuery Client\n"
      ],
      "metadata": {
        "id": "Ob2wWxyxgwSN"
      }
    },
    {
      "cell_type": "code",
      "source": [
        "import pandas as pd\n",
        "import numpy as np\n",
        "from google.cloud import bigquery\n"
      ],
      "metadata": {
        "id": "mGAwLPIYb2Yu"
      },
      "execution_count": 3,
      "outputs": []
    },
    {
      "cell_type": "markdown",
      "source": [
        "## 1.3 Set Up BigQuery Client with Your Project ID"
      ],
      "metadata": {
        "id": "8YX4ti-dg01s"
      }
    },
    {
      "cell_type": "code",
      "source": [
        "# Replace 'lunar-listener-438315-b9' with your actual Google Cloud project ID\n",
        "project_id = 'lunar-listener-438315-b9'\n",
        "\n",
        "# Create a BigQuery client\n",
        "client = bigquery.Client(project=project_id)\n"
      ],
      "metadata": {
        "id": "PL-H-fqhb7i9"
      },
      "execution_count": 4,
      "outputs": []
    },
    {
      "cell_type": "markdown",
      "source": [
        "# 2. Query the Presentation Table"
      ],
      "metadata": {
        "id": "ndNkJ8PEhBsr"
      }
    },
    {
      "cell_type": "markdown",
      "source": [
        "## 2.1 Define the SQL Query"
      ],
      "metadata": {
        "id": "8qkBgbzzhHfl"
      }
    },
    {
      "cell_type": "code",
      "source": [
        "# Define the SQL query to retrieve data from the presentation table\n",
        "query = \"\"\"\n",
        "SELECT\n",
        "  *\n",
        "FROM `lunar-listener-438315-b9.resq_data.presentation_table`\n",
        "\"\"\"\n"
      ],
      "metadata": {
        "id": "22AQ_eAVcKyN"
      },
      "execution_count": 5,
      "outputs": []
    },
    {
      "cell_type": "markdown",
      "source": [
        "## 2.2 Execute the Query and Load the Data into a DataFrame"
      ],
      "metadata": {
        "id": "kEisuR-dhMq8"
      }
    },
    {
      "cell_type": "code",
      "source": [
        "# Execute the query and convert the results to a pandas DataFrame\n",
        "df = client.query(query).to_dataframe()\n"
      ],
      "metadata": {
        "id": "yfwgMU3UcNPd"
      },
      "execution_count": 6,
      "outputs": []
    },
    {
      "cell_type": "markdown",
      "source": [
        "## 2.3 Verify the DataFrame"
      ],
      "metadata": {
        "id": "60L3eukXhTc6"
      }
    },
    {
      "cell_type": "code",
      "source": [
        "# Display the first few rows of the DataFrame\n",
        "df.head()\n"
      ],
      "metadata": {
        "colab": {
          "base_uri": "https://localhost:8080/",
          "height": 313
        },
        "id": "-cK5F0QAcsDR",
        "outputId": "79d40c43-76ec-420a-eba6-fe28c0ecda50"
      },
      "execution_count": 7,
      "outputs": [
        {
          "output_type": "execute_result",
          "data": {
            "text/plain": [
              "              order_id          order_created_at              user_id  \\\n",
              "0  5416827086004895733 2022-11-25 05:07:20+00:00  6440745749093560506   \n",
              "1  2717676373470635754 2023-08-15 04:15:56+00:00  4939382371357575364   \n",
              "2  2386177465838996792 2022-11-28 05:01:08+00:00  2333573918598501663   \n",
              "3  1354343446370302188 2023-07-12 12:48:57+00:00  3460397126179069157   \n",
              "4  5055826703931167592 2022-11-28 06:13:05+00:00  5558542277679015545   \n",
              "\n",
              "   quantity  refunded currency  sales          provider_id defaultoffertype  \\\n",
              "0         1      True      eur  300.0  1713020136823136256      grocery-bag   \n",
              "1         1      True      eur  480.0  1713020136823136256      grocery-bag   \n",
              "2         1      True      eur  500.0  1713020136823136256      grocery-bag   \n",
              "3         1      True      eur  120.0  1713020136823136256      grocery-bag   \n",
              "4         1      True      eur  500.0  1713020136823136256      grocery-bag   \n",
              "\n",
              "  provider_country  provider_registered_date user_country  \\\n",
              "0              fin 2018-10-25 14:13:17+00:00           FI   \n",
              "1              fin 2018-10-25 14:13:17+00:00           FI   \n",
              "2              fin 2018-10-25 14:13:17+00:00           FI   \n",
              "3              fin 2018-10-25 14:13:17+00:00           FI   \n",
              "4              fin 2018-10-25 14:13:17+00:00           FI   \n",
              "\n",
              "       user_registered_date  \n",
              "0 2018-08-16 16:58:06+00:00  \n",
              "1 2016-06-11 15:03:48+00:00  \n",
              "2 2016-09-05 14:45:31+00:00  \n",
              "3 2016-06-21 10:39:47+00:00  \n",
              "4 2022-10-08 12:22:01+00:00  "
            ],
            "text/html": [
              "\n",
              "  <div id=\"df-d1166231-075f-47ff-a03c-cf5aff9ee65b\" class=\"colab-df-container\">\n",
              "    <div>\n",
              "<style scoped>\n",
              "    .dataframe tbody tr th:only-of-type {\n",
              "        vertical-align: middle;\n",
              "    }\n",
              "\n",
              "    .dataframe tbody tr th {\n",
              "        vertical-align: top;\n",
              "    }\n",
              "\n",
              "    .dataframe thead th {\n",
              "        text-align: right;\n",
              "    }\n",
              "</style>\n",
              "<table border=\"1\" class=\"dataframe\">\n",
              "  <thead>\n",
              "    <tr style=\"text-align: right;\">\n",
              "      <th></th>\n",
              "      <th>order_id</th>\n",
              "      <th>order_created_at</th>\n",
              "      <th>user_id</th>\n",
              "      <th>quantity</th>\n",
              "      <th>refunded</th>\n",
              "      <th>currency</th>\n",
              "      <th>sales</th>\n",
              "      <th>provider_id</th>\n",
              "      <th>defaultoffertype</th>\n",
              "      <th>provider_country</th>\n",
              "      <th>provider_registered_date</th>\n",
              "      <th>user_country</th>\n",
              "      <th>user_registered_date</th>\n",
              "    </tr>\n",
              "  </thead>\n",
              "  <tbody>\n",
              "    <tr>\n",
              "      <th>0</th>\n",
              "      <td>5416827086004895733</td>\n",
              "      <td>2022-11-25 05:07:20+00:00</td>\n",
              "      <td>6440745749093560506</td>\n",
              "      <td>1</td>\n",
              "      <td>True</td>\n",
              "      <td>eur</td>\n",
              "      <td>300.0</td>\n",
              "      <td>1713020136823136256</td>\n",
              "      <td>grocery-bag</td>\n",
              "      <td>fin</td>\n",
              "      <td>2018-10-25 14:13:17+00:00</td>\n",
              "      <td>FI</td>\n",
              "      <td>2018-08-16 16:58:06+00:00</td>\n",
              "    </tr>\n",
              "    <tr>\n",
              "      <th>1</th>\n",
              "      <td>2717676373470635754</td>\n",
              "      <td>2023-08-15 04:15:56+00:00</td>\n",
              "      <td>4939382371357575364</td>\n",
              "      <td>1</td>\n",
              "      <td>True</td>\n",
              "      <td>eur</td>\n",
              "      <td>480.0</td>\n",
              "      <td>1713020136823136256</td>\n",
              "      <td>grocery-bag</td>\n",
              "      <td>fin</td>\n",
              "      <td>2018-10-25 14:13:17+00:00</td>\n",
              "      <td>FI</td>\n",
              "      <td>2016-06-11 15:03:48+00:00</td>\n",
              "    </tr>\n",
              "    <tr>\n",
              "      <th>2</th>\n",
              "      <td>2386177465838996792</td>\n",
              "      <td>2022-11-28 05:01:08+00:00</td>\n",
              "      <td>2333573918598501663</td>\n",
              "      <td>1</td>\n",
              "      <td>True</td>\n",
              "      <td>eur</td>\n",
              "      <td>500.0</td>\n",
              "      <td>1713020136823136256</td>\n",
              "      <td>grocery-bag</td>\n",
              "      <td>fin</td>\n",
              "      <td>2018-10-25 14:13:17+00:00</td>\n",
              "      <td>FI</td>\n",
              "      <td>2016-09-05 14:45:31+00:00</td>\n",
              "    </tr>\n",
              "    <tr>\n",
              "      <th>3</th>\n",
              "      <td>1354343446370302188</td>\n",
              "      <td>2023-07-12 12:48:57+00:00</td>\n",
              "      <td>3460397126179069157</td>\n",
              "      <td>1</td>\n",
              "      <td>True</td>\n",
              "      <td>eur</td>\n",
              "      <td>120.0</td>\n",
              "      <td>1713020136823136256</td>\n",
              "      <td>grocery-bag</td>\n",
              "      <td>fin</td>\n",
              "      <td>2018-10-25 14:13:17+00:00</td>\n",
              "      <td>FI</td>\n",
              "      <td>2016-06-21 10:39:47+00:00</td>\n",
              "    </tr>\n",
              "    <tr>\n",
              "      <th>4</th>\n",
              "      <td>5055826703931167592</td>\n",
              "      <td>2022-11-28 06:13:05+00:00</td>\n",
              "      <td>5558542277679015545</td>\n",
              "      <td>1</td>\n",
              "      <td>True</td>\n",
              "      <td>eur</td>\n",
              "      <td>500.0</td>\n",
              "      <td>1713020136823136256</td>\n",
              "      <td>grocery-bag</td>\n",
              "      <td>fin</td>\n",
              "      <td>2018-10-25 14:13:17+00:00</td>\n",
              "      <td>FI</td>\n",
              "      <td>2022-10-08 12:22:01+00:00</td>\n",
              "    </tr>\n",
              "  </tbody>\n",
              "</table>\n",
              "</div>\n",
              "    <div class=\"colab-df-buttons\">\n",
              "\n",
              "  <div class=\"colab-df-container\">\n",
              "    <button class=\"colab-df-convert\" onclick=\"convertToInteractive('df-d1166231-075f-47ff-a03c-cf5aff9ee65b')\"\n",
              "            title=\"Convert this dataframe to an interactive table.\"\n",
              "            style=\"display:none;\">\n",
              "\n",
              "  <svg xmlns=\"http://www.w3.org/2000/svg\" height=\"24px\" viewBox=\"0 -960 960 960\">\n",
              "    <path d=\"M120-120v-720h720v720H120Zm60-500h600v-160H180v160Zm220 220h160v-160H400v160Zm0 220h160v-160H400v160ZM180-400h160v-160H180v160Zm440 0h160v-160H620v160ZM180-180h160v-160H180v160Zm440 0h160v-160H620v160Z\"/>\n",
              "  </svg>\n",
              "    </button>\n",
              "\n",
              "  <style>\n",
              "    .colab-df-container {\n",
              "      display:flex;\n",
              "      gap: 12px;\n",
              "    }\n",
              "\n",
              "    .colab-df-convert {\n",
              "      background-color: #E8F0FE;\n",
              "      border: none;\n",
              "      border-radius: 50%;\n",
              "      cursor: pointer;\n",
              "      display: none;\n",
              "      fill: #1967D2;\n",
              "      height: 32px;\n",
              "      padding: 0 0 0 0;\n",
              "      width: 32px;\n",
              "    }\n",
              "\n",
              "    .colab-df-convert:hover {\n",
              "      background-color: #E2EBFA;\n",
              "      box-shadow: 0px 1px 2px rgba(60, 64, 67, 0.3), 0px 1px 3px 1px rgba(60, 64, 67, 0.15);\n",
              "      fill: #174EA6;\n",
              "    }\n",
              "\n",
              "    .colab-df-buttons div {\n",
              "      margin-bottom: 4px;\n",
              "    }\n",
              "\n",
              "    [theme=dark] .colab-df-convert {\n",
              "      background-color: #3B4455;\n",
              "      fill: #D2E3FC;\n",
              "    }\n",
              "\n",
              "    [theme=dark] .colab-df-convert:hover {\n",
              "      background-color: #434B5C;\n",
              "      box-shadow: 0px 1px 3px 1px rgba(0, 0, 0, 0.15);\n",
              "      filter: drop-shadow(0px 1px 2px rgba(0, 0, 0, 0.3));\n",
              "      fill: #FFFFFF;\n",
              "    }\n",
              "  </style>\n",
              "\n",
              "    <script>\n",
              "      const buttonEl =\n",
              "        document.querySelector('#df-d1166231-075f-47ff-a03c-cf5aff9ee65b button.colab-df-convert');\n",
              "      buttonEl.style.display =\n",
              "        google.colab.kernel.accessAllowed ? 'block' : 'none';\n",
              "\n",
              "      async function convertToInteractive(key) {\n",
              "        const element = document.querySelector('#df-d1166231-075f-47ff-a03c-cf5aff9ee65b');\n",
              "        const dataTable =\n",
              "          await google.colab.kernel.invokeFunction('convertToInteractive',\n",
              "                                                    [key], {});\n",
              "        if (!dataTable) return;\n",
              "\n",
              "        const docLinkHtml = 'Like what you see? Visit the ' +\n",
              "          '<a target=\"_blank\" href=https://colab.research.google.com/notebooks/data_table.ipynb>data table notebook</a>'\n",
              "          + ' to learn more about interactive tables.';\n",
              "        element.innerHTML = '';\n",
              "        dataTable['output_type'] = 'display_data';\n",
              "        await google.colab.output.renderOutput(dataTable, element);\n",
              "        const docLink = document.createElement('div');\n",
              "        docLink.innerHTML = docLinkHtml;\n",
              "        element.appendChild(docLink);\n",
              "      }\n",
              "    </script>\n",
              "  </div>\n",
              "\n",
              "\n",
              "<div id=\"df-b037e6b6-a01f-451f-907f-9c20c924b04b\">\n",
              "  <button class=\"colab-df-quickchart\" onclick=\"quickchart('df-b037e6b6-a01f-451f-907f-9c20c924b04b')\"\n",
              "            title=\"Suggest charts\"\n",
              "            style=\"display:none;\">\n",
              "\n",
              "<svg xmlns=\"http://www.w3.org/2000/svg\" height=\"24px\"viewBox=\"0 0 24 24\"\n",
              "     width=\"24px\">\n",
              "    <g>\n",
              "        <path d=\"M19 3H5c-1.1 0-2 .9-2 2v14c0 1.1.9 2 2 2h14c1.1 0 2-.9 2-2V5c0-1.1-.9-2-2-2zM9 17H7v-7h2v7zm4 0h-2V7h2v10zm4 0h-2v-4h2v4z\"/>\n",
              "    </g>\n",
              "</svg>\n",
              "  </button>\n",
              "\n",
              "<style>\n",
              "  .colab-df-quickchart {\n",
              "      --bg-color: #E8F0FE;\n",
              "      --fill-color: #1967D2;\n",
              "      --hover-bg-color: #E2EBFA;\n",
              "      --hover-fill-color: #174EA6;\n",
              "      --disabled-fill-color: #AAA;\n",
              "      --disabled-bg-color: #DDD;\n",
              "  }\n",
              "\n",
              "  [theme=dark] .colab-df-quickchart {\n",
              "      --bg-color: #3B4455;\n",
              "      --fill-color: #D2E3FC;\n",
              "      --hover-bg-color: #434B5C;\n",
              "      --hover-fill-color: #FFFFFF;\n",
              "      --disabled-bg-color: #3B4455;\n",
              "      --disabled-fill-color: #666;\n",
              "  }\n",
              "\n",
              "  .colab-df-quickchart {\n",
              "    background-color: var(--bg-color);\n",
              "    border: none;\n",
              "    border-radius: 50%;\n",
              "    cursor: pointer;\n",
              "    display: none;\n",
              "    fill: var(--fill-color);\n",
              "    height: 32px;\n",
              "    padding: 0;\n",
              "    width: 32px;\n",
              "  }\n",
              "\n",
              "  .colab-df-quickchart:hover {\n",
              "    background-color: var(--hover-bg-color);\n",
              "    box-shadow: 0 1px 2px rgba(60, 64, 67, 0.3), 0 1px 3px 1px rgba(60, 64, 67, 0.15);\n",
              "    fill: var(--button-hover-fill-color);\n",
              "  }\n",
              "\n",
              "  .colab-df-quickchart-complete:disabled,\n",
              "  .colab-df-quickchart-complete:disabled:hover {\n",
              "    background-color: var(--disabled-bg-color);\n",
              "    fill: var(--disabled-fill-color);\n",
              "    box-shadow: none;\n",
              "  }\n",
              "\n",
              "  .colab-df-spinner {\n",
              "    border: 2px solid var(--fill-color);\n",
              "    border-color: transparent;\n",
              "    border-bottom-color: var(--fill-color);\n",
              "    animation:\n",
              "      spin 1s steps(1) infinite;\n",
              "  }\n",
              "\n",
              "  @keyframes spin {\n",
              "    0% {\n",
              "      border-color: transparent;\n",
              "      border-bottom-color: var(--fill-color);\n",
              "      border-left-color: var(--fill-color);\n",
              "    }\n",
              "    20% {\n",
              "      border-color: transparent;\n",
              "      border-left-color: var(--fill-color);\n",
              "      border-top-color: var(--fill-color);\n",
              "    }\n",
              "    30% {\n",
              "      border-color: transparent;\n",
              "      border-left-color: var(--fill-color);\n",
              "      border-top-color: var(--fill-color);\n",
              "      border-right-color: var(--fill-color);\n",
              "    }\n",
              "    40% {\n",
              "      border-color: transparent;\n",
              "      border-right-color: var(--fill-color);\n",
              "      border-top-color: var(--fill-color);\n",
              "    }\n",
              "    60% {\n",
              "      border-color: transparent;\n",
              "      border-right-color: var(--fill-color);\n",
              "    }\n",
              "    80% {\n",
              "      border-color: transparent;\n",
              "      border-right-color: var(--fill-color);\n",
              "      border-bottom-color: var(--fill-color);\n",
              "    }\n",
              "    90% {\n",
              "      border-color: transparent;\n",
              "      border-bottom-color: var(--fill-color);\n",
              "    }\n",
              "  }\n",
              "</style>\n",
              "\n",
              "  <script>\n",
              "    async function quickchart(key) {\n",
              "      const quickchartButtonEl =\n",
              "        document.querySelector('#' + key + ' button');\n",
              "      quickchartButtonEl.disabled = true;  // To prevent multiple clicks.\n",
              "      quickchartButtonEl.classList.add('colab-df-spinner');\n",
              "      try {\n",
              "        const charts = await google.colab.kernel.invokeFunction(\n",
              "            'suggestCharts', [key], {});\n",
              "      } catch (error) {\n",
              "        console.error('Error during call to suggestCharts:', error);\n",
              "      }\n",
              "      quickchartButtonEl.classList.remove('colab-df-spinner');\n",
              "      quickchartButtonEl.classList.add('colab-df-quickchart-complete');\n",
              "    }\n",
              "    (() => {\n",
              "      let quickchartButtonEl =\n",
              "        document.querySelector('#df-b037e6b6-a01f-451f-907f-9c20c924b04b button');\n",
              "      quickchartButtonEl.style.display =\n",
              "        google.colab.kernel.accessAllowed ? 'block' : 'none';\n",
              "    })();\n",
              "  </script>\n",
              "</div>\n",
              "\n",
              "    </div>\n",
              "  </div>\n"
            ],
            "application/vnd.google.colaboratory.intrinsic+json": {
              "type": "dataframe",
              "variable_name": "df"
            }
          },
          "metadata": {},
          "execution_count": 7
        }
      ]
    },
    {
      "cell_type": "markdown",
      "source": [
        "# 3. Perform the CLV Analysis"
      ],
      "metadata": {
        "id": "rNUyLNQaeLVl"
      }
    },
    {
      "cell_type": "markdown",
      "source": [
        "Now that we have the data in a pandas DataFrame (`df`), we can proceed with the CLV analysis."
      ],
      "metadata": {
        "id": "aeC9aNS9hb-i"
      }
    },
    {
      "cell_type": "markdown",
      "source": [
        "## 3.1 Data Preparation"
      ],
      "metadata": {
        "id": "6E753IAehp9h"
      }
    },
    {
      "cell_type": "markdown",
      "source": [
        "### 3.1.1 Convert Date columns to Datetime"
      ],
      "metadata": {
        "id": "Bxvlx_Vrhsao"
      }
    },
    {
      "cell_type": "code",
      "source": [
        "# Ensure date columns are in datetime format\n",
        "df['order_created_at'] = pd.to_datetime(df['order_created_at'])\n",
        "df['user_registered_date'] = pd.to_datetime(df['user_registered_date'])\n",
        "df['provider_registered_date'] = pd.to_datetime(df['provider_registered_date'])\n"
      ],
      "metadata": {
        "id": "OLON3ZLweL4A"
      },
      "execution_count": 8,
      "outputs": []
    },
    {
      "cell_type": "markdown",
      "source": [
        "### 3.1.2 Replace Empty strings with `NaN`"
      ],
      "metadata": {
        "id": "7Y8cVd-pjIbe"
      }
    },
    {
      "cell_type": "code",
      "source": [
        "# Identify columns with object data type (typically strings)\n",
        "string_columns = df.select_dtypes(include=['object']).columns.tolist()\n",
        "print(\"String-type columns:\", string_columns)\n",
        "\n"
      ],
      "metadata": {
        "colab": {
          "base_uri": "https://localhost:8080/"
        },
        "id": "NLmnNFU5i2fR",
        "outputId": "2fe54dda-c9a2-481d-860b-bee0e0f07ea2"
      },
      "execution_count": 9,
      "outputs": [
        {
          "output_type": "stream",
          "name": "stdout",
          "text": [
            "String-type columns: ['currency', 'defaultoffertype', 'provider_country', 'user_country']\n"
          ]
        }
      ]
    },
    {
      "cell_type": "markdown",
      "source": [
        "### 3.1.3 Check for Missing Values"
      ],
      "metadata": {
        "id": "2XBy97pQhxsI"
      }
    },
    {
      "cell_type": "code",
      "source": [
        "# Replace empty strings with NaN in all string-type columns\n",
        "for col in string_columns:\n",
        "    df[col] = df[col].replace(r'^\\s*$', np.nan, regex=True)\n",
        "\n",
        "# Check for missing values\n",
        "print(df.isna().sum())\n",
        "\n"
      ],
      "metadata": {
        "colab": {
          "base_uri": "https://localhost:8080/"
        },
        "id": "kZQHRKXxeNgM",
        "outputId": "fa64c55c-ff59-4fdf-dc93-712a001298c0"
      },
      "execution_count": 10,
      "outputs": [
        {
          "output_type": "stream",
          "name": "stdout",
          "text": [
            "order_id                    0\n",
            "order_created_at            0\n",
            "user_id                     0\n",
            "quantity                    0\n",
            "refunded                    0\n",
            "currency                    0\n",
            "sales                       0\n",
            "provider_id                 0\n",
            "defaultoffertype            0\n",
            "provider_country            0\n",
            "provider_registered_date    0\n",
            "user_country                3\n",
            "user_registered_date        0\n",
            "dtype: int64\n"
          ]
        }
      ]
    },
    {
      "cell_type": "markdown",
      "source": [
        "Since we only have 3 NaN values for user_country we do not need to remove them as the rows are still useful for providing us other insights, we can simply remove the rows when looking at region specific analysis."
      ],
      "metadata": {
        "id": "t6t1dmrBjQrs"
      }
    },
    {
      "cell_type": "markdown",
      "source": [
        "## 3.2 Calculate Key Metrics"
      ],
      "metadata": {
        "id": "CywWnEWfh5qn"
      }
    },
    {
      "cell_type": "markdown",
      "source": [
        "### 3.2.1 Average Order Value (AOV)"
      ],
      "metadata": {
        "id": "_mUsuyMGkygV"
      }
    },
    {
      "cell_type": "code",
      "source": [
        "# Calculate Total Revenue and Total Orders\n",
        "total_revenue = df['sales'].sum()\n",
        "total_orders = df['order_id'].nunique()\n",
        "\n",
        "# Calculate Average Order Value\n",
        "aov = total_revenue / total_orders\n",
        "\n",
        "print(f\"Total Revenue: ${total_revenue:.2f}\")\n",
        "print(f\"Total Orders: {total_orders}\")\n",
        "print(f\"Average Order Value (AOV): ${aov:.2f}\")\n"
      ],
      "metadata": {
        "colab": {
          "base_uri": "https://localhost:8080/"
        },
        "id": "Y3BOSh-neToW",
        "outputId": "d2973b2b-2d56-4cc0-e51c-4cf2749b3764"
      },
      "execution_count": 49,
      "outputs": [
        {
          "output_type": "stream",
          "name": "stdout",
          "text": [
            "Total Revenue: $231086039.00\n",
            "Total Orders: 299971\n",
            "Average Order Value (AOV): $770.36\n"
          ]
        }
      ]
    },
    {
      "cell_type": "markdown",
      "source": [
        "### 3.2.2 Average Customer Lifespan"
      ],
      "metadata": {
        "id": "4UraHgYok6JY"
      }
    },
    {
      "cell_type": "code",
      "source": [
        "# Average Customer Lifespan\n",
        "customer_lifespans = df.groupby('user_id')['order_created_at'].agg(['min', 'max'])\n",
        "customer_lifespans['lifespan_days'] = (customer_lifespans['max'] - customer_lifespans['min']).dt.days\n",
        "customer_lifespans['lifespan_days'] = customer_lifespans['lifespan_days'].replace(0, 1)  # Handle single purchases\n",
        "average_lifespan_days = customer_lifespans['lifespan_days'].mean()\n",
        "average_lifespan_years = average_lifespan_days / 365\n"
      ],
      "metadata": {
        "id": "MqVtbH8TeZUN"
      },
      "execution_count": 52,
      "outputs": []
    },
    {
      "cell_type": "markdown",
      "source": [
        "### 3.2.3 Purchase Frequency"
      ],
      "metadata": {
        "id": "Q3U4gPL1k27O"
      }
    },
    {
      "cell_type": "code",
      "source": [
        "# Calculate Total Customers\n",
        "total_customers = df['user_id'].nunique()\n",
        "\n",
        "# Calculate Purchase Frequency\n",
        "purchase_frequency = total_orders / total_customers\n",
        "\n",
        "print(f\"Total Customers: {total_customers}\")\n",
        "print(f\"Purchase Frequency: {purchase_frequency:.2f}\")\n"
      ],
      "metadata": {
        "colab": {
          "base_uri": "https://localhost:8080/"
        },
        "id": "VEEjs3a3eW_t",
        "outputId": "d1ffb194-9618-4efd-f01f-2871bf84cfef"
      },
      "execution_count": 51,
      "outputs": [
        {
          "output_type": "stream",
          "name": "stdout",
          "text": [
            "Total Customers: 123208\n",
            "Purchase Frequency: 2.43\n"
          ]
        }
      ]
    },
    {
      "cell_type": "markdown",
      "source": [
        "## 3.3 Calculate Customer Lifetime Value (CLV)"
      ],
      "metadata": {
        "id": "neg2ZRt0k-hO"
      }
    },
    {
      "cell_type": "code",
      "source": [
        "# Calculate CLV\n",
        "clv = aov * purchase_frequency * average_lifespan_years\n",
        "\n",
        "print(f\"Expected Customer Lifetime Value (CLV): ${clv:.2f}\")\n"
      ],
      "metadata": {
        "colab": {
          "base_uri": "https://localhost:8080/"
        },
        "id": "1B654ktJehCj",
        "outputId": "4861b6f4-9529-4bcb-ecbd-461293e8f464"
      },
      "execution_count": 53,
      "outputs": [
        {
          "output_type": "stream",
          "name": "stdout",
          "text": [
            "Expected Customer Lifetime Value (CLV): $398.36\n"
          ]
        }
      ]
    },
    {
      "cell_type": "markdown",
      "source": [
        "# 4. Summary of Findings"
      ],
      "metadata": {
        "id": "Hdq7-cGXeQyx"
      }
    },
    {
      "cell_type": "code",
      "source": [
        "# Display the results\n",
        "print(\"=== CLV Analysis Summary ===\")\n",
        "print(f\"Total Revenue: ${total_revenue:.2f}\")\n",
        "print(f\"Total Orders: {total_orders}\")\n",
        "print(f\"Total Customers: {total_customers}\")\n",
        "print(f\"Average Order Value (AOV): ${aov:.2f}\")\n",
        "print(f\"Purchase Frequency: {purchase_frequency:.2f}\")\n",
        "print(f\"Average Customer Lifespan: {average_lifespan_years:.2f} years\")\n",
        "print(f\"Expected Customer Lifetime Value (CLV): ${clv:.2f}\")"
      ],
      "metadata": {
        "colab": {
          "base_uri": "https://localhost:8080/"
        },
        "id": "Izeoh653u3u0",
        "outputId": "c61e8644-7b57-4f5a-b748-7ec905d3f15c"
      },
      "execution_count": 55,
      "outputs": [
        {
          "output_type": "stream",
          "name": "stdout",
          "text": [
            "=== CLV Analysis Summary ===\n",
            "Total Revenue: $231086039.00\n",
            "Total Orders: 299971\n",
            "Total Customers: 123208\n",
            "Average Order Value (AOV): $770.36\n",
            "Purchase Frequency: 2.43\n",
            "Average Customer Lifespan: 0.212392208 years\n",
            "Expected Customer Lifetime Value (CLV): $398.36\n"
          ]
        }
      ]
    }
  ]
}